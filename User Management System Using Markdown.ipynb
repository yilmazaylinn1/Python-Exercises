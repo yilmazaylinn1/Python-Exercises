{
 "cells": [
  {
   "cell_type": "markdown",
   "metadata": {},
   "source": [
    "<!--Correct username: invitado / pass: hgm2015-->\n",
    "  <button style='color:Blue' align = 'right' id=\"submit\"> Save User</button> \n",
    "\n",
    "<section class=\"form animated flipInX\">\n",
    "    \n",
    "  <h2> New User</h2>\n",
    "  <form class=\"loginbox\" autocomplete=\"off\">\n",
    "      \n",
    "  <input placeholder=\"Username\" type=\"text\" id=\"username\"></input>\n",
    "  <br><br> \n",
    "  <input placeholder=\"Display Name\" type=\"text\" id=\"displayname\"></input>\n",
    "    \n",
    "   <input placeholder=\"Phone\" type=\"text\" id=\"phone\"></input>                             \n",
    "    \n",
    "   <input placeholder=\"Email\" type=\"email\" id=\"email\"></input>\n",
    "    \n",
    "   <input type=\"checkbox\" id=\"enabled\" name=\"enabled\" value=\"Enabled\">\n",
    "    <label for=\"enabled\">Enabled</label><br>\n",
    "    \n",
    "    \n",
    "   <label for=\"UserRoles\">Select User Roles:</label>\n",
    "  <select name=\"roles\" id=\"roles\">\n",
    "    <option value=\"guest\">Guest</option>\n",
    "    <option value=\"admin\">Admin</option>\n",
    "    <option value=\"SuperAdmin\">SuperAdmin</option>\n",
    "  </select>\n",
    "  <br><br>\n",
    "  <button style='color:Blue' id=\"submit\"> + New User</button> \n",
    " <input type=\"checkbox\" disabled checked> Hide Disabled User\n",
    " \n",
    "| ID              | User Name    | Email                 | Enabled        |\n",
    "|-----------------|:-------------|:---------------:       |---------------:|\n",
    "| 1               | Admin Usser  | admin@piworks.net      | true           |\n",
    "| 2               | Test User    | testuser@piworks.net   | true           |\n",
    "\n",
    "</form>\n",
    "</section>\n"
   ]
  },
  {
   "cell_type": "code",
   "execution_count": null,
   "metadata": {},
   "outputs": [],
   "source": []
  }
 ],
 "metadata": {
  "kernelspec": {
   "display_name": "Python 3",
   "language": "python",
   "name": "python3"
  },
  "language_info": {
   "codemirror_mode": {
    "name": "ipython",
    "version": 3
   },
   "file_extension": ".py",
   "mimetype": "text/x-python",
   "name": "python",
   "nbconvert_exporter": "python",
   "pygments_lexer": "ipython3",
   "version": "3.8.5"
  }
 },
 "nbformat": 4,
 "nbformat_minor": 4
}
